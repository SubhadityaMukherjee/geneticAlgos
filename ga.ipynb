{
 "cells": [
  {
   "cell_type": "markdown",
   "metadata": {
    "toc": true
   },
   "source": [
    "<h1>Table of Contents<span class=\"tocSkip\"></span></h1>\n",
    "<div class=\"toc\"><ul class=\"toc-item\"><li><span><a href=\"#All-the-genetic-algos\" data-toc-modified-id=\"All-the-genetic-algos-1\"><span class=\"toc-item-num\">1&nbsp;&nbsp;</span>All the genetic algos</a></span></li><li><span><a href=\"#Appln\" data-toc-modified-id=\"Appln-2\"><span class=\"toc-item-num\">2&nbsp;&nbsp;</span>Appln</a></span><ul class=\"toc-item\"><li><span><a href=\"#Checking-values\" data-toc-modified-id=\"Checking-values-2.1\"><span class=\"toc-item-num\">2.1&nbsp;&nbsp;</span>Checking values</a></span></li></ul></li></ul></div>"
   ]
  },
  {
   "cell_type": "markdown",
   "metadata": {},
   "source": [
    "# All the genetic algos\n",
    "- Initial \n",
    "- Fitness\n",
    "- Selection\n",
    "- Crossover\n",
    "- Mutation\n",
    "\n",
    "START<br>\n",
    "Generate the initial population<br>\n",
    "Compute fitness<br>\n",
    "REPEAT<br>\n",
    "    Selection<br>\n",
    "    Crossover<br>\n",
    "    Mutation<br>\n",
    "    Compute fitness<br>\n",
    "UNTIL population has converged<br>\n",
    "STOP<br>"
   ]
  },
  {
   "cell_type": "code",
   "execution_count": 22,
   "metadata": {
    "ExecuteTime": {
     "end_time": "2019-10-14T19:32:20.930512Z",
     "start_time": "2019-10-14T19:32:20.917005Z"
    }
   },
   "outputs": [],
   "source": [
    "import random\n",
    "import math\n",
    "import numpy as np"
   ]
  },
  {
   "cell_type": "code",
   "execution_count": null,
   "metadata": {
    "ExecuteTime": {
     "end_time": "2019-10-14T19:00:56.266667Z",
     "start_time": "2019-10-14T19:00:56.259840Z"
    },
    "tags": [
     "run"
    ]
   },
   "outputs": [],
   "source": [
    "def gen_init(n):\n",
    "    return ''.join([str(random.randint(0,1)) for x in range(n)])"
   ]
  },
  {
   "cell_type": "code",
   "execution_count": null,
   "metadata": {
    "ExecuteTime": {
     "end_time": "2019-10-14T19:00:56.292019Z",
     "start_time": "2019-10-14T19:00:56.272298Z"
    }
   },
   "outputs": [],
   "source": [
    "gen_init(10)"
   ]
  },
  {
   "cell_type": "code",
   "execution_count": null,
   "metadata": {
    "ExecuteTime": {
     "end_time": "2019-10-14T19:00:56.306306Z",
     "start_time": "2019-10-14T19:00:56.298780Z"
    },
    "tags": [
     "run"
    ]
   },
   "outputs": [],
   "source": [
    "def fitness(curr):\n",
    "    curr = list(map(int, list(curr)))\n",
    "    return curr.count(1)"
   ]
  },
  {
   "cell_type": "code",
   "execution_count": null,
   "metadata": {
    "ExecuteTime": {
     "end_time": "2019-10-14T19:00:56.329361Z",
     "start_time": "2019-10-14T19:00:56.317426Z"
    },
    "run_control": {
     "marked": false
    },
    "tags": [
     "run"
    ]
   },
   "outputs": [],
   "source": [
    "def splitter(curr):\n",
    "    splt_in = random.randint(1, len(curr))\n",
    "    curr = list(map(int, list(curr)))\n",
    "    curr1= curr[0:int(len(curr)/splt_in)]\n",
    "    curr2 = curr[int(len(curr)/splt_in)::]\n",
    "\n",
    "    return (''.join(list(map(str, curr1))),''.join(list(map(str, curr2))))"
   ]
  },
  {
   "cell_type": "code",
   "execution_count": null,
   "metadata": {
    "ExecuteTime": {
     "end_time": "2019-10-14T19:00:56.343314Z",
     "start_time": "2019-10-14T19:00:56.334822Z"
    },
    "run_control": {
     "marked": false
    }
   },
   "outputs": [],
   "source": [
    "print(splitter('101101010110')[0])"
   ]
  },
  {
   "cell_type": "code",
   "execution_count": null,
   "metadata": {
    "ExecuteTime": {
     "end_time": "2019-10-14T19:00:56.355047Z",
     "start_time": "2019-10-14T19:00:56.346748Z"
    },
    "run_control": {
     "marked": false
    },
    "tags": [
     "run"
    ]
   },
   "outputs": [],
   "source": [
    "def crossover(p1,p2):\n",
    "    p1,p2 = list(p1),list(p2)\n",
    "#     print(p1,p2)\n",
    "    for i in range(min(len(p1),len(p2))):\n",
    "        p1[i],p2[i] = p2[i],p1[i]\n",
    "    \n",
    "    return ''.join(list(map(str, p1)))+''.join(list(map(str, p2)))"
   ]
  },
  {
   "cell_type": "code",
   "execution_count": null,
   "metadata": {
    "ExecuteTime": {
     "end_time": "2019-10-14T19:00:56.371748Z",
     "start_time": "2019-10-14T19:00:56.362473Z"
    },
    "run_control": {
     "marked": false
    }
   },
   "outputs": [],
   "source": [
    "te = splitter('101101010110')\n",
    "# print(te)\n",
    "print(crossover(te[0],te[1]))"
   ]
  },
  {
   "cell_type": "code",
   "execution_count": null,
   "metadata": {
    "ExecuteTime": {
     "end_time": "2019-10-14T19:00:56.394763Z",
     "start_time": "2019-10-14T19:00:56.380072Z"
    },
    "run_control": {
     "marked": false
    }
   },
   "outputs": [],
   "source": [
    "def mutation(curr):\n",
    "    curr = list(map(int, list(curr)))\n",
    "    no_mut = random.randint(0,len(curr)-1)\n",
    "#     print(curr, no_mut)\n",
    "    mut_index = [int(random.randint(0,len(curr)-1)) for x in range(no_mut)]\n",
    "    mut_index = list(set(mut_index))\n",
    "#     print(mut_index)\n",
    "    for a in mut_index:\n",
    "        if(curr[a]==0):\n",
    "            curr[a]=1\n",
    "        else:\n",
    "            curr[a]=0\n",
    "    return  ''.join(list(map(str, curr)))"
   ]
  },
  {
   "cell_type": "code",
   "execution_count": null,
   "metadata": {
    "ExecuteTime": {
     "end_time": "2019-10-14T19:00:56.408509Z",
     "start_time": "2019-10-14T19:00:56.397381Z"
    },
    "run_control": {
     "marked": false
    }
   },
   "outputs": [],
   "source": [
    "print(mutation('101101010110'))"
   ]
  },
  {
   "cell_type": "code",
   "execution_count": null,
   "metadata": {
    "ExecuteTime": {
     "end_time": "2019-10-14T19:01:27.004300Z",
     "start_time": "2019-10-14T19:00:56.436445Z"
    },
    "run_control": {
     "marked": false
    },
    "scrolled": true
   },
   "outputs": [],
   "source": [
    "# te = gen_init(50)\n",
    "# main(te,50,200)"
   ]
  },
  {
   "cell_type": "markdown",
   "metadata": {},
   "source": [
    "# Appln\n",
    "\n"
   ]
  },
  {
   "cell_type": "code",
   "execution_count": 57,
   "metadata": {
    "ExecuteTime": {
     "end_time": "2019-10-14T19:45:36.745441Z",
     "start_time": "2019-10-14T19:45:36.738249Z"
    },
    "run_control": {
     "marked": false
    }
   },
   "outputs": [],
   "source": [
    "def gen_values_in_bin(start,stop):\n",
    "    p = []\n",
    "    for i in range(start, stop+1):\n",
    "        temp = str(bin(i))\n",
    "        p.append(temp[2::])\n",
    "    max_len = len(list(p[-1]))\n",
    "#     print(max_len,p)\n",
    "    p = ['0'*(max_len-len(a))+a if len(a)!=max_len else a for a in p ]\n",
    "    return (max_len,p)"
   ]
  },
  {
   "cell_type": "code",
   "execution_count": 58,
   "metadata": {
    "ExecuteTime": {
     "end_time": "2019-10-14T19:45:36.767582Z",
     "start_time": "2019-10-14T19:45:36.761400Z"
    },
    "run_control": {
     "marked": false
    }
   },
   "outputs": [
    {
     "name": "stdout",
     "output_type": "stream",
     "text": [
      "(6, ['011110', '011111', '100000', '100001', '100010', '100011', '100100', '100101', '100110', '100111', '101000', '101001', '101010', '101011', '101100', '101101', '101110', '101111', '110000', '110001', '110010', '110011', '110100', '110101', '110110', '110111', '111000', '111001', '111010', '111011', '111100'])\n"
     ]
    }
   ],
   "source": [
    "print(gen_values_in_bin(30,60))"
   ]
  },
  {
   "cell_type": "code",
   "execution_count": 79,
   "metadata": {
    "ExecuteTime": {
     "end_time": "2019-10-14T20:03:43.834949Z",
     "start_time": "2019-10-14T20:03:43.824130Z"
    }
   },
   "outputs": [],
   "source": [
    "def centri(mass, velocity,radius):\n",
    "    return int(mass*math.pow(velocity,2)/radius)"
   ]
  },
  {
   "cell_type": "markdown",
   "metadata": {},
   "source": [
    "## Checking values\n",
    "- mass : 1 to 50\n",
    "- velocity: 50 to 100\n",
    "- radius: 10 to 50"
   ]
  },
  {
   "cell_type": "code",
   "execution_count": 61,
   "metadata": {
    "ExecuteTime": {
     "end_time": "2019-10-14T19:51:54.999725Z",
     "start_time": "2019-10-14T19:51:54.990987Z"
    }
   },
   "outputs": [],
   "source": [
    "l_mass,mass = gen_values_in_bin(1,50)\n",
    "l_velocity,velocity = gen_values_in_bin(51,100)\n",
    "l_radius,radius = gen_values_in_bin(1,50)"
   ]
  },
  {
   "cell_type": "code",
   "execution_count": 62,
   "metadata": {
    "ExecuteTime": {
     "end_time": "2019-10-14T19:51:56.306225Z",
     "start_time": "2019-10-14T19:51:56.297277Z"
    }
   },
   "outputs": [
    {
     "name": "stdout",
     "output_type": "stream",
     "text": [
      "50 50 50\n"
     ]
    }
   ],
   "source": [
    "print(len(mass),len(velocity),len(radius))"
   ]
  },
  {
   "cell_type": "code",
   "execution_count": 70,
   "metadata": {
    "ExecuteTime": {
     "end_time": "2019-10-14T19:59:38.792057Z",
     "start_time": "2019-10-14T19:59:38.777510Z"
    }
   },
   "outputs": [
    {
     "data": {
      "text/plain": [
       "9"
      ]
     },
     "execution_count": 70,
     "metadata": {},
     "output_type": "execute_result"
    }
   ],
   "source": [
    "int('1001',2)"
   ]
  },
  {
   "cell_type": "code",
   "execution_count": null,
   "metadata": {
    "ExecuteTime": {
     "end_time": "2019-10-14T19:00:56.429766Z",
     "start_time": "2019-10-14T19:00:56.416580Z"
    },
    "run_control": {
     "marked": false
    }
   },
   "outputs": [],
   "source": [
    "def main(init_pop,tot_pop, no_of_epochs):\n",
    "    init_pop = init_pop\n",
    "    temp_fitness = 0\n",
    "    current_pop = ''\n",
    "    curr_fit = fitness(init_pop)\n",
    "    epoch = 0\n",
    "    print('[INFO]->pop: {}, fit: {}, max_fit: {}'.format(current_pop,temp_fitness,tot_pop))\n",
    "    while curr_fit!=tot_pop:\n",
    "        split1,split2 = splitter(init_pop)\n",
    "        cross = crossover(split1, split2)\n",
    "        mut = mutation(cross)\n",
    "        \n",
    "        curr_fit = fitness(mut)\n",
    "        \n",
    "        if curr_fit>temp_fitness:\n",
    "            temp_fitness = curr_fit\n",
    "            current_pop = mut\n",
    "            print('[INFO]->epoch: {} pop: {}, fit: {}'.format(epoch, current_pop,temp_fitness))\n",
    "        \n",
    "        if curr_fit==tot_pop:\n",
    "            print('\\nConverged at the following: \\n')\n",
    "            print('[INFO]->epoch: {} pop: {}, fit: {}'.format(epoch, current_pop,temp_fitness))\n",
    "            break\n",
    "        \n",
    "        if epoch%1000==0:\n",
    "            print('[ITER]->{}'.format(epoch))\n",
    "        epoch+=1\n",
    "    "
   ]
  },
  {
   "cell_type": "code",
   "execution_count": null,
   "metadata": {},
   "outputs": [],
   "source": []
  },
  {
   "cell_type": "code",
   "execution_count": null,
   "metadata": {},
   "outputs": [],
   "source": []
  },
  {
   "cell_type": "code",
   "execution_count": null,
   "metadata": {},
   "outputs": [],
   "source": []
  },
  {
   "cell_type": "code",
   "execution_count": null,
   "metadata": {},
   "outputs": [],
   "source": []
  },
  {
   "cell_type": "code",
   "execution_count": null,
   "metadata": {},
   "outputs": [],
   "source": []
  }
 ],
 "metadata": {
  "kernelspec": {
   "display_name": "Python 3",
   "language": "python",
   "name": "python3"
  },
  "language_info": {
   "codemirror_mode": {
    "name": "ipython",
    "version": 3
   },
   "file_extension": ".py",
   "mimetype": "text/x-python",
   "name": "python",
   "nbconvert_exporter": "python",
   "pygments_lexer": "ipython3",
   "version": "3.6.5"
  },
  "toc": {
   "base_numbering": 1,
   "nav_menu": {},
   "number_sections": true,
   "sideBar": true,
   "skip_h1_title": false,
   "title_cell": "Table of Contents",
   "title_sidebar": "Contents",
   "toc_cell": true,
   "toc_position": {},
   "toc_section_display": true,
   "toc_window_display": false
  }
 },
 "nbformat": 4,
 "nbformat_minor": 2
}
